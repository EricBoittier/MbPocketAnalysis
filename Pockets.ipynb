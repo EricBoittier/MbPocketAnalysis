{
 "cells": [
  {
   "cell_type": "code",
   "execution_count": 26,
   "metadata": {},
   "outputs": [],
   "source": [
    "import pandas as pd\n",
    "import numpy as np\n",
    "\n",
    "def distance(a, b):\n",
    "    \"\"\"\n",
    "    Distance using the norm\n",
    "    \"\"\"\n",
    "    return np.linalg.norm(np.array(a) - np.array(b))\n",
    "\n",
    "def namestr(obj, namespace):\n",
    "    return [name for name in namespace if namespace[name] is obj]\n",
    "\n",
    "\n",
    "\n",
    "dbscan = pd.read_csv(\"xenon_DBSCAN.csv\")\n",
    "xe1 = pd.read_csv(\"xe1.csv\")\n",
    "xe2 = pd.read_csv(\"xe2.csv\")\n",
    "xe3 = pd.read_csv(\"xe3.csv\")\n",
    "xe4 = pd.read_csv(\"xe4.csv\")\n",
    "heme = pd.read_csv(\"heme.csv\")\n",
    "\n",
    "# def make_csv(pocket):\n",
    "#     f = open(\"{}.dat\".format(pocket))\n",
    "#     lines = f.readlines()[1:]\n",
    "#     xs = []\n",
    "#     ys = []\n",
    "#     zs = []\n",
    "#     xyzs = []\n",
    "#     for line in lines:\n",
    "#         s = line.split()\n",
    "#         xs.append(float(s[1]))\n",
    "#         ys.append(float(s[2]))\n",
    "#         zs.append(float(s[3]))\n",
    "#         xyzs.append([float(s[1]), float(s[2]), float(s[3])])\n",
    "#     df = pd.DataFrame({\"x\": xs, \"y\":ys, \"z\": zs})\n",
    "#     df.to_csv(\"{}.csv\".format(pocket), index=False)\n",
    "\n",
    "# make_csv(\"xe4\")\n",
    "# make_csv(\"xe1\")\n",
    "# make_csv(\"xe2\")\n",
    "# make_csv(\"xe3\")\n",
    "# make_csv(\"heme\")\n"
   ]
  },
  {
   "cell_type": "code",
   "execution_count": 37,
   "metadata": {},
   "outputs": [],
   "source": [
    "xe1_avg = np.array(xe1.mean())\n",
    "xe2_avg = np.array(xe2.mean())\n",
    "xe3_avg = np.array(xe3.mean())\n",
    "xe4_avg = np.array(xe4.mean())\n",
    "heme_avg = np.array(heme.mean())\n",
    "\n",
    "c0 = dbscan[dbscan[\"c\"] == 0]\n",
    "c0_avg = np.array(c0.mean())[:-1]\n",
    "\n",
    "c1 = dbscan[dbscan[\"c\"] == 1]\n",
    "c1_avg = np.array(c1.mean())[:-1]\n",
    "\n",
    "c2 = dbscan[dbscan[\"c\"] == 2]\n",
    "c2_avg = np.array(c2.mean())[:-1]\n",
    "\n",
    "c3 = dbscan[dbscan[\"c\"] == 3]\n",
    "c3_avg = np.array(c3.mean())[:-1]\n",
    "\n",
    "c4 = dbscan[dbscan[\"c\"] == 4]\n",
    "c4_avg = np.array(c4.mean())[:-1]\n"
   ]
  },
  {
   "cell_type": "code",
   "execution_count": 43,
   "metadata": {},
   "outputs": [
    {
     "name": "stdout",
     "output_type": "stream",
     "text": [
      "xe1_avg\n",
      "c0_avg\n",
      "1.6148808346339567\n",
      "\n",
      "xe2_avg\n",
      "c0_avg\n",
      "3.798605042265253\n",
      "\n",
      "xe2_avg\n",
      "c1_avg\n",
      "2.973377260114288\n",
      "\n",
      "xe3_avg\n",
      "c2_avg\n",
      "3.27901612511382\n",
      "\n",
      "xe3_avg\n",
      "c4_avg\n",
      "4.866084327265707\n",
      "\n"
     ]
    }
   ],
   "source": [
    "pockets = [xe1_avg , xe2_avg , xe3_avg , xe4_avg , heme_avg]\n",
    "clusters = [c0_avg, c1_avg, c2_avg, c3_avg, c4_avg]\n",
    "\n",
    "for p in pockets:\n",
    "    for c in clusters:\n",
    "        \n",
    "        d = distance(p, c)\n",
    "        \n",
    "        if d<5:\n",
    "            print(namestr(p, globals())[0])\n",
    "            print(namestr(c, globals())[0])\n",
    "            print(d)\n",
    "            print()\n",
    "\n",
    "\n"
   ]
  },
  {
   "cell_type": "code",
   "execution_count": 42,
   "metadata": {},
   "outputs": [
    {
     "data": {
      "text/plain": [
       "x    1.126322\n",
       "y    0.385441\n",
       "z    3.668125\n",
       "dtype: float64"
      ]
     },
     "execution_count": 42,
     "metadata": {},
     "output_type": "execute_result"
    }
   ],
   "source": [
    "xe4.var()"
   ]
  },
  {
   "cell_type": "code",
   "execution_count": null,
   "metadata": {},
   "outputs": [],
   "source": []
  }
 ],
 "metadata": {
  "kernelspec": {
   "display_name": "Python 3",
   "language": "python",
   "name": "python3"
  },
  "language_info": {
   "codemirror_mode": {
    "name": "ipython",
    "version": 3
   },
   "file_extension": ".py",
   "mimetype": "text/x-python",
   "name": "python",
   "nbconvert_exporter": "python",
   "pygments_lexer": "ipython3",
   "version": "3.8.3"
  }
 },
 "nbformat": 4,
 "nbformat_minor": 4
}
